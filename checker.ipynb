{
 "cells": [
  {
   "cell_type": "code",
   "execution_count": 28,
   "metadata": {},
   "outputs": [],
   "source": [
    "def compare_files(file1, file2):\n",
    "    # Open both files in read mode\n",
    "    with open(file1, 'r') as f1, open(file2, 'r') as f2:\n",
    "        # Read the files line by line, stripping newlines\n",
    "        lines1 = [line.strip() for line in f1.readlines()]\n",
    "        lines2 = [line.strip() for line in f2.readlines()]\n",
    "        \n",
    "        # Compare the contents\n",
    "        if lines1 == lines2:\n",
    "            return \"Files are the same.\"\n",
    "        else:\n",
    "            return \"Files are different.\"\n",
    "\n"
   ]
  },
  {
   "cell_type": "code",
   "execution_count": 29,
   "metadata": {},
   "outputs": [
    {
     "name": "stdout",
     "output_type": "stream",
     "text": [
      "Files are the same.\n"
     ]
    }
   ],
   "source": [
    "file1 = 'nb1_1.txt'\n",
    "file2 = 'checker_files/bernoulli_out.txt'\n",
    "\n",
    "result = compare_files(file1, file2)\n",
    "print(result)"
   ]
  },
  {
   "cell_type": "code",
   "execution_count": 30,
   "metadata": {},
   "outputs": [
    {
     "name": "stdout",
     "output_type": "stream",
     "text": [
      "Files are the same.\n"
     ]
    }
   ],
   "source": [
    "file1 = 'nb1_2.txt'\n",
    "file2 = 'checker_files/multinomial_out.txt'\n",
    "\n",
    "result = compare_files(file1, file2)\n",
    "print(result)"
   ]
  },
  {
   "cell_type": "code",
   "execution_count": 31,
   "metadata": {},
   "outputs": [
    {
     "name": "stdout",
     "output_type": "stream",
     "text": [
      "Files are the same.\n"
     ]
    }
   ],
   "source": [
    "file1 = 'nb1_3a.txt'\n",
    "file2 = 'checker_files/bernoulli_bigrams_out.txt'\n",
    "\n",
    "result = compare_files(file1, file2)\n",
    "print(result)"
   ]
  },
  {
   "cell_type": "code",
   "execution_count": 32,
   "metadata": {},
   "outputs": [
    {
     "name": "stdout",
     "output_type": "stream",
     "text": [
      "Files are the same.\n"
     ]
    }
   ],
   "source": [
    "file1 = 'nb1_3b.txt'\n",
    "file2 = 'checker_files/multinomial_bigrams_out.txt'\n",
    "\n",
    "result = compare_files(file1, file2)\n",
    "print(result)"
   ]
  },
  {
   "cell_type": "code",
   "execution_count": 34,
   "metadata": {},
   "outputs": [
    {
     "name": "stdout",
     "output_type": "stream",
     "text": [
      "1284\n",
      "1284\n",
      "47.741433021806856\n"
     ]
    }
   ],
   "source": [
    "import pandas as pd\n",
    "\n",
    "file= 'nb2.txt'\n",
    "test_df= pd.read_csv('valid.tsv',header=None,sep='\\t',quoting=3)\n",
    "test_x= test_df[2]\n",
    "test_y= test_df[1]\n",
    "with open(file, 'r') as f:\n",
    "        lines = [line.strip() for line in f.readlines()]\n",
    "print(len(lines))\n",
    "print(len(test_y))\n",
    "wrong=0\n",
    "right=0\n",
    "for i in range(len(lines)):\n",
    "        if lines[i]!=test_y[i]:\n",
    "                wrong+=1\n",
    "        else:\n",
    "                right+=1\n",
    "print(100.0*right/len(lines))"
   ]
  },
  {
   "cell_type": "code",
   "execution_count": null,
   "metadata": {},
   "outputs": [],
   "source": []
  }
 ],
 "metadata": {
  "kernelspec": {
   "display_name": "Python 3",
   "language": "python",
   "name": "python3"
  },
  "language_info": {
   "codemirror_mode": {
    "name": "ipython",
    "version": 3
   },
   "file_extension": ".py",
   "mimetype": "text/x-python",
   "name": "python",
   "nbconvert_exporter": "python",
   "pygments_lexer": "ipython3",
   "version": "3.12.6"
  }
 },
 "nbformat": 4,
 "nbformat_minor": 2
}
